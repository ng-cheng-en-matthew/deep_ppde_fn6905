{
 "cells": [
  {
   "cell_type": "code",
   "execution_count": 1,
   "metadata": {
    "colab": {
     "base_uri": "https://localhost:8080/"
    },
    "executionInfo": {
     "elapsed": 10359,
     "status": "ok",
     "timestamp": 1656558937935,
     "user": {
      "displayName": "nguwi jy",
      "userId": "17294038731682000497"
     },
     "user_tz": -480
    },
    "id": "cxxWRuDx5sIZ",
    "outputId": "28df6bb1-4eb8-4b91-ca80-5a24cafe38ef"
   },
   "outputs": [
    {
     "name": "stdout",
     "output_type": "stream",
     "text": [
      "/content/drive/MyDrive/Colab Notebooks/deep_ppde\n",
      "Looking in indexes: https://pypi.org/simple, https://us-python.pkg.dev/colab-wheels/public/simple/\n",
      "Requirement already satisfied: signatory in /usr/local/lib/python3.7/dist-packages (1.2.6.1.9.0)\n",
      "Looking in indexes: https://pypi.org/simple, https://us-python.pkg.dev/colab-wheels/public/simple/\n",
      "Requirement already satisfied: munch in /usr/local/lib/python3.7/dist-packages (2.5.0)\n",
      "Requirement already satisfied: six in /usr/local/lib/python3.7/dist-packages (from munch) (1.15.0)\n"
     ]
    }
   ],
   "source": [
    "# only run this cell if you start from Colab\n",
    "!git clone https://github.com/nguwijy/deep_ppde\n",
    "%cd deep_ppde\n",
    "!pip install signatory\n",
    "!pip install munch"
   ]
  },
  {
   "cell_type": "code",
   "execution_count": null,
   "metadata": {
    "id": "h-sA2ZnR5RC3",
    "scrolled": true
   },
   "outputs": [],
   "source": [
    "!python main.py\n",
    "!python regression.py\n",
    "!python deep_split.py\n",
    "!python deep_signature/ppde_asian.py\n",
    "!python deep_signature/ppde_barrier.py\n",
    "!python deep_galerkin.py\n",
    "!python deep_bsde.py"
   ]
  },
  {
   "cell_type": "code",
   "execution_count": 7,
   "metadata": {
    "executionInfo": {
     "elapsed": 1613,
     "status": "ok",
     "timestamp": 1656559463614,
     "user": {
      "displayName": "nguwi jy",
      "userId": "17294038731682000497"
     },
     "user_tz": -480
    },
    "id": "XackWqM8k2nm"
   },
   "outputs": [],
   "source": [
    "# summarize the statistics\n",
    "!python stats.py"
   ]
  }
 ],
 "metadata": {
  "accelerator": "GPU",
  "colab": {
   "authorship_tag": "ABX9TyNBms+xEAVuyLGzA47b2Or9",
   "collapsed_sections": [],
   "mount_file_id": "1odNb4h3Lk1s80b_3VL0cchrNZ7876zSO",
   "name": "comparison.ipynb",
   "provenance": []
  },
  "gpuClass": "standard",
  "kernelspec": {
   "display_name": "Python 3 (ipykernel)",
   "language": "python",
   "name": "python3"
  },
  "language_info": {
   "codemirror_mode": {
    "name": "ipython",
    "version": 3
   },
   "file_extension": ".py",
   "mimetype": "text/x-python",
   "name": "python",
   "nbconvert_exporter": "python",
   "pygments_lexer": "ipython3",
   "version": "3.8.10"
  }
 },
 "nbformat": 4,
 "nbformat_minor": 1
}
