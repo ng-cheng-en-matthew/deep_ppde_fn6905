{
 "nbformat": 4,
 "nbformat_minor": 0,
 "metadata": {
  "colab": {
   "name": "comparison.ipynb",
   "provenance": [],
   "collapsed_sections": [],
   "mount_file_id": "1odNb4h3Lk1s80b_3VL0cchrNZ7876zSO",
   "authorship_tag": "ABX9TyNBms+xEAVuyLGzA47b2Or9"
  },
  "kernelspec": {
   "name": "python3",
   "display_name": "Python 3"
  },
  "language_info": {
   "name": "python"
  },
  "accelerator": "GPU",
  "gpuClass": "standard"
 },
 "cells": [
  {
   "cell_type": "code",
   "source": [
    "!git clone https://github.com/nguwijy/deep_ppde\n",
    "%cd deep_ppde\n",
    "!pip install signatory\n",
    "!pip install munch"
   ],
   "metadata": {
    "colab": {
     "base_uri": "https://localhost:8080/"
    },
    "id": "cxxWRuDx5sIZ",
    "executionInfo": {
     "status": "ok",
     "timestamp": 1656558937935,
     "user_tz": -480,
     "elapsed": 10359,
     "user": {
      "displayName": "nguwi jy",
      "userId": "17294038731682000497"
     }
    },
    "outputId": "28df6bb1-4eb8-4b91-ca80-5a24cafe38ef"
   },
   "execution_count": 1,
   "outputs": [
    {
     "output_type": "stream",
     "name": "stdout",
     "text": [
      "/content/drive/MyDrive/Colab Notebooks/deep_ppde\n",
      "Looking in indexes: https://pypi.org/simple, https://us-python.pkg.dev/colab-wheels/public/simple/\n",
      "Requirement already satisfied: signatory in /usr/local/lib/python3.7/dist-packages (1.2.6.1.9.0)\n",
      "Looking in indexes: https://pypi.org/simple, https://us-python.pkg.dev/colab-wheels/public/simple/\n",
      "Requirement already satisfied: munch in /usr/local/lib/python3.7/dist-packages (2.5.0)\n",
      "Requirement already satisfied: six in /usr/local/lib/python3.7/dist-packages (from munch) (1.15.0)\n"
     ]
    }
   ]
  },
  {
   "cell_type": "code",
   "execution_count": null,
   "metadata": {
    "id": "h-sA2ZnR5RC3"
   },
   "outputs": [],
   "source": [
    "!python main.py\n",
    "!python regression.py\n",
    "!python deep_split.py\n",
    "!python deep_signature/ppde_asian.py\n",
    "!python deep_signature/ppde_barrier.py\n",
    "!python deep_galerkin.py\n",
    "!python deep_bsde.py"
   ]
  },
  {
   "cell_type": "code",
   "source": [
    "# summarize the statistics\n",
    "!python stats.py"
   ],
   "metadata": {
    "id": "XackWqM8k2nm",
    "executionInfo": {
     "status": "ok",
     "timestamp": 1656559463614,
     "user_tz": -480,
     "elapsed": 1613,
     "user": {
      "displayName": "nguwi jy",
      "userId": "17294038731682000497"
     }
    }
   },
   "execution_count": 7,
   "outputs": []
  }
 ]
}
